{
 "cells": [
  {
   "cell_type": "code",
   "execution_count": 1,
   "metadata": {},
   "outputs": [],
   "source": [
    "import os\n",
    "import torch\n",
    "from torch import nn\n",
    "from torch.utils.data import DataLoader\n",
    "from torchvision import datasets, transforms"
   ]
  },
  {
   "cell_type": "code",
   "execution_count": 2,
   "metadata": {},
   "outputs": [],
   "source": [
    "data_root = \"../../data\""
   ]
  },
  {
   "cell_type": "code",
   "execution_count": 3,
   "metadata": {},
   "outputs": [],
   "source": [
    "device = \"cpu\""
   ]
  },
  {
   "cell_type": "markdown",
   "metadata": {},
   "source": [
    "## Define the Class"
   ]
  },
  {
   "cell_type": "code",
   "execution_count": 6,
   "metadata": {},
   "outputs": [],
   "source": [
    "class NeuralNetwork(nn.Module):\n",
    "    def __init__(self):\n",
    "        super().__init__()\n",
    "        self.flatten = nn.Flatten()\n",
    "        self.linear_relu_stack = nn.Sequential(\n",
    "            nn.Linear(28*28, 512),\n",
    "            nn.ReLU(),\n",
    "            nn.Linear(512, 512),\n",
    "            nn.ReLU(),\n",
    "            nn.Linear(512, 10),\n",
    "        )\n",
    "\n",
    "    def forward(self, x):\n",
    "        x = self.flatten(x)\n",
    "        logits = self.linear_relu_stack(x)\n",
    "        return logits"
   ]
  },
  {
   "cell_type": "code",
   "execution_count": 7,
   "metadata": {},
   "outputs": [
    {
     "name": "stdout",
     "output_type": "stream",
     "text": [
      "NeuralNetwork(\n",
      "  (flatten): Flatten(start_dim=1, end_dim=-1)\n",
      "  (linear_relu_stack): Sequential(\n",
      "    (0): Linear(in_features=784, out_features=512, bias=True)\n",
      "    (1): ReLU()\n",
      "    (2): Linear(in_features=512, out_features=512, bias=True)\n",
      "    (3): ReLU()\n",
      "    (4): Linear(in_features=512, out_features=10, bias=True)\n",
      "  )\n",
      ")\n"
     ]
    }
   ],
   "source": [
    "model = NeuralNetwork().to(device)\n",
    "print(model)"
   ]
  },
  {
   "cell_type": "code",
   "execution_count": 15,
   "metadata": {},
   "outputs": [],
   "source": [
    "labels_map = {\n",
    "    0: \"T-Shirt\",\n",
    "    1: \"Trouser\",\n",
    "    2: \"Pullover\",\n",
    "    3: \"Dress\",\n",
    "    4: \"Coat\",\n",
    "    5: \"Sandal\",\n",
    "    6: \"Shirt\",\n",
    "    7: \"Sneaker\",\n",
    "    8: \"Bag\",\n",
    "    9: \"Ankle Boot\",\n",
    "}"
   ]
  },
  {
   "cell_type": "code",
   "execution_count": 21,
   "metadata": {},
   "outputs": [
    {
     "name": "stdout",
     "output_type": "stream",
     "text": [
      "Predicted class: T-Shirt\n"
     ]
    }
   ],
   "source": [
    "X = torch.rand(1, 28, 28, device=device)\n",
    "logits = model(X)\n",
    "pred_probab = nn.Softmax(dim=1)(logits)\n",
    "y_pred = pred_probab.argmax(1)\n",
    "y_pred_label = labels_map[y_pred.item()]\n",
    "print(f\"Predicted class: {y_pred_label}\")"
   ]
  },
  {
   "cell_type": "code",
   "execution_count": 12,
   "metadata": {},
   "outputs": [
    {
     "name": "stdout",
     "output_type": "stream",
     "text": [
      "tensor([[ 0.0311,  0.0141,  0.0507, -0.0160,  0.0547,  0.0741, -0.0401, -0.0026,\n",
      "         -0.0210, -0.1209]], grad_fn=<AddmmBackward0>)\n",
      "tensor([[0.1028, 0.1010, 0.1048, 0.0980, 0.1052, 0.1073, 0.0957, 0.0994, 0.0975,\n",
      "         0.0883]], grad_fn=<SoftmaxBackward0>)\n"
     ]
    }
   ],
   "source": [
    "print(logits)\n",
    "print(pred_probab)"
   ]
  },
  {
   "cell_type": "markdown",
   "metadata": {},
   "source": [
    "## Model Layers"
   ]
  },
  {
   "cell_type": "code",
   "execution_count": 35,
   "metadata": {},
   "outputs": [
    {
     "name": "stdout",
     "output_type": "stream",
     "text": [
      "torch.Size([3, 28, 28])\n",
      "tensor([[[0.4600, 0.2317, 0.7261,  ..., 0.0493, 0.6569, 0.6611],\n",
      "         [0.3970, 0.3299, 0.9435,  ..., 0.4273, 0.8525, 0.5626],\n",
      "         [0.7843, 0.0381, 0.0377,  ..., 0.4530, 0.9247, 0.1575],\n",
      "         ...,\n",
      "         [0.2606, 0.1009, 0.6273,  ..., 0.1833, 0.3453, 0.2190],\n",
      "         [0.3227, 0.9386, 0.1767,  ..., 0.4833, 0.6276, 0.4597],\n",
      "         [0.4946, 0.1756, 0.2440,  ..., 0.1541, 0.1839, 0.4808]],\n",
      "\n",
      "        [[0.6853, 0.0049, 0.6588,  ..., 0.8616, 0.4173, 0.4581],\n",
      "         [0.9488, 0.6322, 0.7310,  ..., 0.6483, 0.8315, 0.7397],\n",
      "         [0.3021, 0.5687, 0.3163,  ..., 0.2801, 0.9882, 0.2812],\n",
      "         ...,\n",
      "         [0.2952, 0.3513, 0.1320,  ..., 0.8198, 0.0857, 0.0592],\n",
      "         [0.1378, 0.8945, 0.4855,  ..., 0.5929, 0.1325, 0.8611],\n",
      "         [0.0094, 0.3097, 0.2163,  ..., 0.7618, 0.0650, 0.5235]],\n",
      "\n",
      "        [[0.7108, 0.4525, 0.3804,  ..., 0.2040, 0.6629, 0.9217],\n",
      "         [0.2438, 0.6897, 0.1415,  ..., 0.7507, 0.2965, 0.1404],\n",
      "         [0.1649, 0.0246, 0.0183,  ..., 0.8226, 0.6291, 0.9395],\n",
      "         ...,\n",
      "         [0.6735, 0.8579, 0.6765,  ..., 0.2760, 0.7649, 0.9605],\n",
      "         [0.8960, 0.5361, 0.8317,  ..., 0.3353, 0.2334, 0.7514],\n",
      "         [0.8546, 0.1343, 0.7170,  ..., 0.3645, 0.9001, 0.8677]]])\n"
     ]
    }
   ],
   "source": [
    "input_image = torch.rand(3,28,28)\n",
    "print(input_image.size())\n",
    "print(input_image)"
   ]
  },
  {
   "cell_type": "code",
   "execution_count": 50,
   "metadata": {},
   "outputs": [
    {
     "name": "stdout",
     "output_type": "stream",
     "text": [
      "torch.Size([3, 784])\n",
      "tensor([[0.4600, 0.2317, 0.7261,  ..., 0.1541, 0.1839, 0.4808],\n",
      "        [0.6853, 0.0049, 0.6588,  ..., 0.7618, 0.0650, 0.5235],\n",
      "        [0.7108, 0.4525, 0.3804,  ..., 0.3645, 0.9001, 0.8677]])\n"
     ]
    }
   ],
   "source": [
    "flatten = nn.Flatten()\n",
    "flat_image = flatten(input_image)\n",
    "print(flat_image.size())\n",
    "print(flat_image)"
   ]
  },
  {
   "cell_type": "code",
   "execution_count": 52,
   "metadata": {},
   "outputs": [
    {
     "name": "stdout",
     "output_type": "stream",
     "text": [
      "torch.Size([3, 20])\n",
      "tensor([[ 0.2313, -0.0910,  0.3339,  0.2543,  0.2411,  0.3131, -0.2133,  0.6825,\n",
      "          0.3195, -0.6944, -0.1019, -0.3617, -0.1298,  0.1926,  0.2636,  0.1302,\n",
      "         -0.1717, -0.0225, -0.5232, -0.5425],\n",
      "        [-0.1347, -0.3392,  0.6145,  0.0062, -0.0454,  0.1923, -0.4902,  0.1536,\n",
      "          0.3605, -0.1827,  0.2772, -0.5179, -0.1105, -0.1410,  0.1143,  0.3775,\n",
      "         -0.0829, -0.1696, -0.5964, -0.0984],\n",
      "        [-0.0017,  0.3053,  0.5913, -0.0441,  0.1507, -0.0249, -0.3393,  0.3150,\n",
      "          0.0908, -0.5112,  0.0017, -0.3319, -0.1703, -0.2202,  0.4976,  0.1913,\n",
      "         -0.2974,  0.1283, -0.3479, -0.2407]], grad_fn=<AddmmBackward0>)\n"
     ]
    }
   ],
   "source": [
    "layer1 = nn.Linear(in_features=28*28, out_features=20)\n",
    "hidden1 = layer1(flat_image)\n",
    "print(hidden1.size())\n",
    "print(hidden1)"
   ]
  },
  {
   "cell_type": "code",
   "execution_count": 53,
   "metadata": {},
   "outputs": [
    {
     "name": "stdout",
     "output_type": "stream",
     "text": [
      "Before ReLU: tensor([[ 0.2313, -0.0910,  0.3339,  0.2543,  0.2411,  0.3131, -0.2133,  0.6825,\n",
      "          0.3195, -0.6944, -0.1019, -0.3617, -0.1298,  0.1926,  0.2636,  0.1302,\n",
      "         -0.1717, -0.0225, -0.5232, -0.5425],\n",
      "        [-0.1347, -0.3392,  0.6145,  0.0062, -0.0454,  0.1923, -0.4902,  0.1536,\n",
      "          0.3605, -0.1827,  0.2772, -0.5179, -0.1105, -0.1410,  0.1143,  0.3775,\n",
      "         -0.0829, -0.1696, -0.5964, -0.0984],\n",
      "        [-0.0017,  0.3053,  0.5913, -0.0441,  0.1507, -0.0249, -0.3393,  0.3150,\n",
      "          0.0908, -0.5112,  0.0017, -0.3319, -0.1703, -0.2202,  0.4976,  0.1913,\n",
      "         -0.2974,  0.1283, -0.3479, -0.2407]], grad_fn=<AddmmBackward0>)\n",
      "\n",
      "\n",
      "After ReLU: tensor([[0.2313, 0.0000, 0.3339, 0.2543, 0.2411, 0.3131, 0.0000, 0.6825, 0.3195,\n",
      "         0.0000, 0.0000, 0.0000, 0.0000, 0.1926, 0.2636, 0.1302, 0.0000, 0.0000,\n",
      "         0.0000, 0.0000],\n",
      "        [0.0000, 0.0000, 0.6145, 0.0062, 0.0000, 0.1923, 0.0000, 0.1536, 0.3605,\n",
      "         0.0000, 0.2772, 0.0000, 0.0000, 0.0000, 0.1143, 0.3775, 0.0000, 0.0000,\n",
      "         0.0000, 0.0000],\n",
      "        [0.0000, 0.3053, 0.5913, 0.0000, 0.1507, 0.0000, 0.0000, 0.3150, 0.0908,\n",
      "         0.0000, 0.0017, 0.0000, 0.0000, 0.0000, 0.4976, 0.1913, 0.0000, 0.1283,\n",
      "         0.0000, 0.0000]], grad_fn=<ReluBackward0>)\n"
     ]
    }
   ],
   "source": [
    "print(f\"Before ReLU: {hidden1}\\n\\n\")\n",
    "hidden1 = nn.ReLU()(hidden1)\n",
    "print(f\"After ReLU: {hidden1}\")"
   ]
  },
  {
   "cell_type": "code",
   "execution_count": 54,
   "metadata": {},
   "outputs": [],
   "source": [
    "seq_modules = nn.Sequential(\n",
    "    flatten,\n",
    "    layer1,\n",
    "    nn.ReLU(),\n",
    "    nn.Linear(20, 10)\n",
    ")\n",
    "input_image = torch.rand(3,28,28)\n",
    "logits = seq_modules(input_image)"
   ]
  },
  {
   "cell_type": "code",
   "execution_count": 55,
   "metadata": {},
   "outputs": [],
   "source": [
    "softmax = nn.Softmax(dim=1)\n",
    "pred_probab = softmax(logits)"
   ]
  },
  {
   "cell_type": "markdown",
   "metadata": {},
   "source": [
    "## Model Parameters"
   ]
  },
  {
   "cell_type": "code",
   "execution_count": 56,
   "metadata": {},
   "outputs": [
    {
     "name": "stdout",
     "output_type": "stream",
     "text": [
      "Model structure: NeuralNetwork(\n",
      "  (flatten): Flatten(start_dim=1, end_dim=-1)\n",
      "  (linear_relu_stack): Sequential(\n",
      "    (0): Linear(in_features=784, out_features=512, bias=True)\n",
      "    (1): ReLU()\n",
      "    (2): Linear(in_features=512, out_features=512, bias=True)\n",
      "    (3): ReLU()\n",
      "    (4): Linear(in_features=512, out_features=10, bias=True)\n",
      "  )\n",
      ")\n",
      "\n",
      "\n",
      "Layer: linear_relu_stack.0.weight | Size: torch.Size([512, 784]) | Values : tensor([[-0.0253, -0.0057,  0.0170,  ..., -0.0102, -0.0348,  0.0282],\n",
      "        [-0.0147, -0.0179,  0.0176,  ...,  0.0158,  0.0203,  0.0103]],\n",
      "       grad_fn=<SliceBackward0>) \n",
      "\n",
      "Layer: linear_relu_stack.0.bias | Size: torch.Size([512]) | Values : tensor([-0.0034,  0.0246], grad_fn=<SliceBackward0>) \n",
      "\n",
      "Layer: linear_relu_stack.2.weight | Size: torch.Size([512, 512]) | Values : tensor([[-0.0265,  0.0436,  0.0136,  ..., -0.0088, -0.0277,  0.0361],\n",
      "        [ 0.0392, -0.0391, -0.0325,  ...,  0.0213, -0.0169,  0.0335]],\n",
      "       grad_fn=<SliceBackward0>) \n",
      "\n",
      "Layer: linear_relu_stack.2.bias | Size: torch.Size([512]) | Values : tensor([0.0347, 0.0283], grad_fn=<SliceBackward0>) \n",
      "\n",
      "Layer: linear_relu_stack.4.weight | Size: torch.Size([10, 512]) | Values : tensor([[ 0.0394,  0.0034,  0.0128,  ..., -0.0390,  0.0174,  0.0027],\n",
      "        [ 0.0285, -0.0327,  0.0398,  ...,  0.0354, -0.0216, -0.0203]],\n",
      "       grad_fn=<SliceBackward0>) \n",
      "\n",
      "Layer: linear_relu_stack.4.bias | Size: torch.Size([10]) | Values : tensor([ 0.0292, -0.0029], grad_fn=<SliceBackward0>) \n",
      "\n"
     ]
    }
   ],
   "source": [
    "print(f\"Model structure: {model}\\n\\n\")\n",
    "\n",
    "for name, param in model.named_parameters():\n",
    "    print(f\"Layer: {name} | Size: {param.size()} | Values : {param[:2]} \\n\")"
   ]
  }
 ],
 "metadata": {
  "kernelspec": {
   "display_name": "learn-pytorch-Hc3pAwEU",
   "language": "python",
   "name": "python3"
  },
  "language_info": {
   "codemirror_mode": {
    "name": "ipython",
    "version": 3
   },
   "file_extension": ".py",
   "mimetype": "text/x-python",
   "name": "python",
   "nbconvert_exporter": "python",
   "pygments_lexer": "ipython3",
   "version": "3.12.4"
  }
 },
 "nbformat": 4,
 "nbformat_minor": 2
}
